{
 "cells": [
  {
   "cell_type": "markdown",
   "metadata": {},
   "source": [
    "This notebook started from John Bart's notebook of example code showing how to read the audio clip data using the librosa.\n",
    "\n",
    "I changed this to read the \"one_week\" recording. "
   ]
  },
  {
   "cell_type": "code",
   "execution_count": 1,
   "metadata": {},
   "outputs": [],
   "source": [
    "# remove warnings\n",
    "import warnings\n",
    "warnings.filterwarnings('ignore')\n",
    "# ---\n",
    "\n",
    "%matplotlib inline\n",
    "from matplotlib import pyplot as plt\n",
    "import matplotlib\n",
    "matplotlib.style.use('ggplot')\n",
    "\n",
    "import pandas as pd\n",
    "pd.options.display.max_columns = 100\n",
    "\n",
    "import numpy as np\n",
    "\n",
    "import librosa\n",
    "import librosa.display\n",
    "\n",
    "# dir containing sound files\n",
    "srcdir = './one_week'"
   ]
  },
  {
   "cell_type": "markdown",
   "metadata": {},
   "source": [
    "Read clip paths from recording folder¶\n",
    "Parses date/time for each clip\n",
    "Sorts clips by time"
   ]
  },
  {
   "cell_type": "code",
   "execution_count": 2,
   "metadata": {},
   "outputs": [],
   "source": [
    "import os\n",
    "import fnmatch\n",
    "from datetime import datetime,timedelta  \n",
    "\n",
    "def read_clipnames(srcdir):\n",
    "    \"\"\"Walk through base folder and collect paths for all sound files.\n",
    "        parse date and time info, sort, and return as a dataframe\"\"\"\n",
    "    \n",
    "    clipexts=['*.mp3']\n",
    "    datefmt='%Y-%m-%d--%H.%M.mp3'\n",
    "\n",
    "    # search through source folder for sound files\n",
    "    # save clip path and date (parsed from filename)\n",
    "    clippath = []\n",
    "    clipdate = []\n",
    "    for ext in clipexts:\n",
    "        for root, dirnames, filenames in os.walk(srcdir):\n",
    "            for filename in fnmatch.filter(filenames, ext):\n",
    "                clippath.append(os.path.join(root, filename).replace('\\\\','/'))\n",
    "                clipdate.append(datetime.strptime(filename, datefmt))\n",
    "                \n",
    "    # get sort index\n",
    "    idx = np.argsort(clipdate)\n",
    "    # retun sorted dataframe\n",
    "    return pd.DataFrame({'date': np.array(clipdate)[idx], \n",
    "                       'path':  np.array(clippath)[idx]})  \n",
    "df = read_clipnames(srcdir)"
   ]
  },
  {
   "cell_type": "markdown",
   "metadata": {},
   "source": [
    "Read audio data and plot spectrographs and waveforms of several clips¶\n"
   ]
  },
  {
   "cell_type": "code",
   "execution_count": 3,
   "metadata": {
    "scrolled": false
   },
   "outputs": [
    {
     "ename": "NoBackendError",
     "evalue": "",
     "output_type": "error",
     "traceback": [
      "\u001b[1;31m---------------------------------------------------------------------------\u001b[0m",
      "\u001b[1;31mNoBackendError\u001b[0m                            Traceback (most recent call last)",
      "\u001b[1;32m<ipython-input-3-b472a75fc7fd>\u001b[0m in \u001b[0;36m<module>\u001b[1;34m\u001b[0m\n\u001b[0;32m      7\u001b[0m \u001b[1;32mfor\u001b[0m \u001b[0mi\u001b[0m\u001b[1;33m,\u001b[0m \u001b[1;33m(\u001b[0m\u001b[0mdt\u001b[0m\u001b[1;33m,\u001b[0m \u001b[0mpath\u001b[0m\u001b[1;33m)\u001b[0m \u001b[1;32min\u001b[0m \u001b[0mdf\u001b[0m\u001b[1;33m.\u001b[0m\u001b[0miloc\u001b[0m\u001b[1;33m[\u001b[0m\u001b[1;33m:\u001b[0m\u001b[0mnumclips\u001b[0m\u001b[1;33m]\u001b[0m\u001b[1;33m.\u001b[0m\u001b[0miterrows\u001b[0m\u001b[1;33m(\u001b[0m\u001b[1;33m)\u001b[0m\u001b[1;33m:\u001b[0m\u001b[1;33m\u001b[0m\u001b[1;33m\u001b[0m\u001b[0m\n\u001b[0;32m      8\u001b[0m     \u001b[1;31m# convert mp3 to audio samples\u001b[0m\u001b[1;33m\u001b[0m\u001b[1;33m\u001b[0m\u001b[1;33m\u001b[0m\u001b[0m\n\u001b[1;32m----> 9\u001b[1;33m     \u001b[0my\u001b[0m\u001b[1;33m,\u001b[0m \u001b[0msr\u001b[0m \u001b[1;33m=\u001b[0m \u001b[0mlibrosa\u001b[0m\u001b[1;33m.\u001b[0m\u001b[0mload\u001b[0m\u001b[1;33m(\u001b[0m\u001b[0mpath\u001b[0m\u001b[1;33m,\u001b[0m \u001b[0msr\u001b[0m\u001b[1;33m=\u001b[0m\u001b[1;32mNone\u001b[0m\u001b[1;33m)\u001b[0m\u001b[1;33m\u001b[0m\u001b[1;33m\u001b[0m\u001b[0m\n\u001b[0m\u001b[0;32m     10\u001b[0m     \u001b[0my\u001b[0m \u001b[1;33m=\u001b[0m \u001b[0my\u001b[0m\u001b[1;33m[\u001b[0m\u001b[1;33m:\u001b[0m\u001b[0mnumsamps\u001b[0m\u001b[1;33m]\u001b[0m\u001b[1;33m\u001b[0m\u001b[1;33m\u001b[0m\u001b[0m\n\u001b[0;32m     11\u001b[0m \u001b[1;33m\u001b[0m\u001b[0m\n",
      "\u001b[1;32m~\\Anaconda3a\\lib\\site-packages\\librosa\\core\\audio.py\u001b[0m in \u001b[0;36mload\u001b[1;34m(path, sr, mono, offset, duration, dtype, res_type)\u001b[0m\n\u001b[0;32m    117\u001b[0m \u001b[1;33m\u001b[0m\u001b[0m\n\u001b[0;32m    118\u001b[0m     \u001b[0my\u001b[0m \u001b[1;33m=\u001b[0m \u001b[1;33m[\u001b[0m\u001b[1;33m]\u001b[0m\u001b[1;33m\u001b[0m\u001b[1;33m\u001b[0m\u001b[0m\n\u001b[1;32m--> 119\u001b[1;33m     \u001b[1;32mwith\u001b[0m \u001b[0maudioread\u001b[0m\u001b[1;33m.\u001b[0m\u001b[0maudio_open\u001b[0m\u001b[1;33m(\u001b[0m\u001b[0mos\u001b[0m\u001b[1;33m.\u001b[0m\u001b[0mpath\u001b[0m\u001b[1;33m.\u001b[0m\u001b[0mrealpath\u001b[0m\u001b[1;33m(\u001b[0m\u001b[0mpath\u001b[0m\u001b[1;33m)\u001b[0m\u001b[1;33m)\u001b[0m \u001b[1;32mas\u001b[0m \u001b[0minput_file\u001b[0m\u001b[1;33m:\u001b[0m\u001b[1;33m\u001b[0m\u001b[1;33m\u001b[0m\u001b[0m\n\u001b[0m\u001b[0;32m    120\u001b[0m         \u001b[0msr_native\u001b[0m \u001b[1;33m=\u001b[0m \u001b[0minput_file\u001b[0m\u001b[1;33m.\u001b[0m\u001b[0msamplerate\u001b[0m\u001b[1;33m\u001b[0m\u001b[1;33m\u001b[0m\u001b[0m\n\u001b[0;32m    121\u001b[0m         \u001b[0mn_channels\u001b[0m \u001b[1;33m=\u001b[0m \u001b[0minput_file\u001b[0m\u001b[1;33m.\u001b[0m\u001b[0mchannels\u001b[0m\u001b[1;33m\u001b[0m\u001b[1;33m\u001b[0m\u001b[0m\n",
      "\u001b[1;32m~\\Anaconda3a\\lib\\site-packages\\audioread\\__init__.py\u001b[0m in \u001b[0;36maudio_open\u001b[1;34m(path, backends)\u001b[0m\n\u001b[0;32m    114\u001b[0m \u001b[1;33m\u001b[0m\u001b[0m\n\u001b[0;32m    115\u001b[0m     \u001b[1;31m# All backends failed!\u001b[0m\u001b[1;33m\u001b[0m\u001b[1;33m\u001b[0m\u001b[1;33m\u001b[0m\u001b[0m\n\u001b[1;32m--> 116\u001b[1;33m     \u001b[1;32mraise\u001b[0m \u001b[0mNoBackendError\u001b[0m\u001b[1;33m(\u001b[0m\u001b[1;33m)\u001b[0m\u001b[1;33m\u001b[0m\u001b[1;33m\u001b[0m\u001b[0m\n\u001b[0m",
      "\u001b[1;31mNoBackendError\u001b[0m: "
     ]
    }
   ],
   "source": [
    "numclips = 3\n",
    "hoplength=None\n",
    "fftsize=256\n",
    "numsamps=100000\n",
    "\n",
    "# read and plot some sound clips\n",
    "for i, (dt, path) in df.iloc[:numclips].iterrows():\n",
    "    # convert mp3 to audio samples\n",
    "    y, sr = librosa.load(path, sr=None)\n",
    "    y = y[:numsamps]\n",
    "\n",
    "    # abs date-time of each sample (disable - takes to long)\n",
    "    #x = [dt+timedelta(seconds=t) for t in np.arange(0,len(y))/sr]\n",
    "\n",
    "    # time of each sample (seconds rel to clip start)\n",
    "    x = np.arange(0,len(y))/sr\n",
    "    \n",
    "    # calc spectrograph\n",
    "    D = librosa.stft(np.array(y), hop_length=hoplength, n_fft=fftsize)\n",
    "    \n",
    "    # Pre-compute a global reference power from the input spectrum\n",
    "    rp = np.max(np.abs(D))\n",
    "    \n",
    "    plt.figure(figsize=(15,10))\n",
    "    plt.suptitle('clip %d, time %s'%(i, dt.strftime('%y-%m-%d %H:%M:00')))\n",
    "\n",
    "    # display spectrograph\n",
    "    plt.subplot(3,2,1)\n",
    "    librosa.display.specshow(librosa.amplitude_to_db(np.abs(D),ref=rp), \n",
    "                             sr=sr, y_axis='linear',cmap='coolwarm')\n",
    "    \n",
    "    # plot waveform\n",
    "    plt.subplot(3,2,2)\n",
    "    plt.plot(x, y, 'b-', linewidth=1)\n",
    "    plt.xlabel('time (s)')\n",
    "    plt.ylabel('amplitude');\n",
    "    \n",
    "    # plot chromagram\n",
    "    y_harmonic, y_percussive = librosa.effects.hpss(y)\n",
    "    tempo, beat_frames = librosa.beat.beat_track(y=y_percussive, sr=sr)\n",
    "    mfcc = librosa.feature.mfcc(y=y, sr=sr, hop_length=hoplength, n_mfcc=13)\n",
    "    plt.subplot(3,2,3)\n",
    "    chromagram = librosa.feature.chroma_stft(y, sr=sr, hop_length=hoplength)\n",
    "    chgramplot = librosa.display.specshow(chromagram, hop_length=hoplength,cmap='coolwarm')\n",
    "    \n",
    "    plt.subplot(3,2,4)\n",
    "    D = librosa.amplitude_to_db(np.abs(librosa.stft(y)), ref=np.max)\n",
    "    librosa.display.specshow(D, y_axis='log')\n",
    "    \n",
    "    plt.subplot(3,2,5)\n",
    "    librosa.display.waveplot(y[:10000])\n",
    "    plt.ylim(-1, 1)\n",
    "    "
   ]
  },
  {
   "cell_type": "code",
   "execution_count": null,
   "metadata": {},
   "outputs": [],
   "source": []
  },
  {
   "cell_type": "code",
   "execution_count": null,
   "metadata": {},
   "outputs": [],
   "source": []
  },
  {
   "cell_type": "code",
   "execution_count": null,
   "metadata": {},
   "outputs": [],
   "source": []
  }
 ],
 "metadata": {
  "kernelspec": {
   "display_name": "Python 3",
   "language": "python",
   "name": "python3"
  },
  "language_info": {
   "codemirror_mode": {
    "name": "ipython",
    "version": 3
   },
   "file_extension": ".py",
   "mimetype": "text/x-python",
   "name": "python",
   "nbconvert_exporter": "python",
   "pygments_lexer": "ipython3",
   "version": "3.7.4"
  }
 },
 "nbformat": 4,
 "nbformat_minor": 2
}
